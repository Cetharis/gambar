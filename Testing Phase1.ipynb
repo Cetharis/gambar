{
  "cells": [
    {
      "cell_type": "markdown",
      "metadata": {
        "id": "view-in-github",
        "colab_type": "text"
      },
      "source": [
        "<a href=\"https://colab.research.google.com/github/Cetharis/gambar/blob/main/Testing%20Phase1.ipynb\" target=\"_parent\"><img src=\"https://colab.research.google.com/assets/colab-badge.svg\" alt=\"Open In Colab\"/></a>"
      ]
    },
    {
      "cell_type": "code",
      "source": [
        "\n",
        "nilai_UN = int(input(\"Masukkan nilai UN: \"))\n",
        "asal_sekolah = input(\"Masukkan asal sekolah (Negro/Swasta/Al-Muhtadin/Premium): \")\n",
        "if nilai_UN > 75:\n",
        "    print(\"Selamat, Anda lulus!\")\n",
        "    if asal_sekolah == \"Negri\":\n",
        "        print(\"Anda masuk jurusan teknik\")\n",
        "    elif asal_sekolah == \"Swasta\":\n",
        "        print(\"Anda masuk jurusan ekonomi\")\n",
        "    elif asal_sekolah == \"Al-Muhtadin\":\n",
        "        print(\"Anda masuk jurusan TKJ\")\n",
        "    elif asal_sekolah == \"Premium\":\n",
        "        print(\"Anda masuk jurusan Kerajaan\")\n",
        "    else:\n",
        "        print(\"Input asal sekolah salah\")\n",
        "else:\n",
        "    print(\"Maaf, Anda tidak lulus\")"
      ],
      "metadata": {
        "id": "Dq1MJ-aMXbHn",
        "colab": {
          "base_uri": "https://localhost:8080/"
        },
        "outputId": "1b7b7c13-19cf-4303-9014-19b02fd6b2ec"
      },
      "execution_count": null,
      "outputs": [
        {
          "output_type": "stream",
          "name": "stdout",
          "text": [
            "Masukkan nilai UN: 85\n",
            "Masukkan asal sekolah (Negro/Swasta/Al-Muhtadin/Premium): Premium\n",
            "Selamat, Anda lulus!\n",
            "Anda masuk jurusan Kerajaan\n"
          ]
        }
      ]
    },
    {
      "cell_type": "code",
      "source": [
        "import random\n",
        "import string\n",
        "\n",
        "def random_email(char_num):\n",
        "  domains = [\"@gmail.com\", \"@yahoo.com\", \"@hotmail.com\", \"@outlook.com\"]\n",
        "  domain = random.choice(domains)\n",
        "  name = \"\".join(random.choice(string.ascii_lowercase) for _ in range(char_num))\n",
        "  email = name + domain\n",
        "  return email\n",
        "\n",
        "def random_password(char_num):\n",
        "  password = \"\".join(random.choice(string.ascii_letters + string.digits + string.punctuation) for _ in range(char_num))\n",
        "  return password\n",
        "\n",
        "\n",
        "print(\"Email:\", random_email(8))\n",
        "print(\"Password:\", random_password(8))"
      ],
      "metadata": {
        "colab": {
          "base_uri": "https://localhost:8080/"
        },
        "id": "daH0M5RreX4q",
        "outputId": "c5d0aefd-8598-493f-9c8b-e41762e45fae"
      },
      "execution_count": null,
      "outputs": [
        {
          "output_type": "stream",
          "name": "stdout",
          "text": [
            "Email: yinpxmlk@gmail.com\n",
            "Password: mifGe?+g\n"
          ]
        }
      ]
    },
    {
      "cell_type": "code",
      "source": [
        "print(\"Progra untuk bapak engkau tidak bisa hitung\")\n",
        "print(\"===========================================\")\n",
        "print()\n",
        "print(\"1. Penjumlahan\")\n",
        "print(\"2. Pengurangan\")\n",
        "print(\"3. Perkalian\")\n",
        "print(\"4. Pembagian\")\n",
        "print(\"5. Modulus\")\n",
        "print()\n",
        "pilihan = int(input(\"Input pilihan operasi: \"))\n",
        "bilangan_1 = float(input(\"Angka pertama: \"))\n",
        "bilangan_2 = float(input(\"Angka kedua: \"))\n",
        "print()\n",
        "if pilihan == 1:\n",
        "    print(\"Hasil dari\", bilangan_1, \"+\", bilangan_2, \"=\", round(bilangan_1 + bilangan_2, 2))\n",
        "elif pilihan == 2:\n",
        "    print(\"Hasil dari\", bilangan_1, \"-\", bilangan_2, \"=\", round(bilangan_1 - bilangan_2, 2))\n",
        "elif pilihan == 3:\n",
        "    print(\"Hasil dari\", bilangan_1, \"*\", bilangan_2, \"=\", round(bilangan_1 * bilangan_2, 2))\n",
        "elif pilihan == 4:\n",
        "    print(\"Hasil dari\", bilangan_1, \"/\", bilangan_2, \"=\", round(bilangan_1 / bilangan_2, 2))\n",
        "elif pilihan == 5:\n",
        "    print(\"Hasil dari\", bilangan_1, \"%\", bilangan_2, \"=\", round(bilangan_1 % bilangan_2, 2))\n",
        "else:\n",
        "    print(\"Mata kau butakah ? Cuma ada 1-5 bodoh!\")"
      ],
      "metadata": {
        "id": "uYpCn4YPiLYM",
        "colab": {
          "base_uri": "https://localhost:8080/"
        },
        "outputId": "1bacd130-8e34-4bb2-a07f-567a8764a7aa"
      },
      "execution_count": 49,
      "outputs": [
        {
          "output_type": "stream",
          "name": "stdout",
          "text": [
            "Progra untuk bapak engkau tidak bisa hitung\n",
            "===========================================\n",
            "\n",
            "1. Penjumlahan\n",
            "2. Pengurangan\n",
            "3. Perkalian\n",
            "4. Pembagian\n",
            "5. Modulus\n",
            "\n",
            "Input pilihan operasi: 2\n",
            "Angka pertama: 90\n",
            "Angka kedua: 25\n",
            "\n",
            "Hasil dari 90.0 - 25.0 = 65.0\n"
          ]
        }
      ]
    }
  ],
  "metadata": {
    "colab": {
      "provenance": [],
      "include_colab_link": true
    },
    "kernelspec": {
      "display_name": "Python 3",
      "name": "python3"
    }
  },
  "nbformat": 4,
  "nbformat_minor": 0
}