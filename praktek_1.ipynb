{
  "nbformat": 4,
  "nbformat_minor": 0,
  "metadata": {
    "colab": {
      "provenance": [],
      "authorship_tag": "ABX9TyMjjwiAqYqTIs8h4fxIgp66",
      "include_colab_link": true
    },
    "kernelspec": {
      "name": "python3",
      "display_name": "Python 3"
    },
    "language_info": {
      "name": "python"
    }
  },
  "cells": [
    {
      "cell_type": "markdown",
      "metadata": {
        "id": "view-in-github",
        "colab_type": "text"
      },
      "source": [
        "<a href=\"https://colab.research.google.com/github/Cetharis/gambar/blob/main/praktek_1.ipynb\" target=\"_parent\"><img src=\"https://colab.research.google.com/assets/colab-badge.svg\" alt=\"Open In Colab\"/></a>"
      ]
    },
    {
      "cell_type": "code",
      "execution_count": 4,
      "metadata": {
        "colab": {
          "base_uri": "https://localhost:8080/"
        },
        "id": "dW0cNr-PzaOy",
        "outputId": "446410aa-ac43-4d42-a078-54a217224ca9"
      },
      "outputs": [
        {
          "output_type": "stream",
          "name": "stdout",
          "text": [
            "program penentuan kelulusan\n",
            "masukan nilai: 80\n",
            "masukan usia: 18\n",
            "selamat kaka,kamu lulus!\n"
          ]
        }
      ],
      "source": [
        "print('program penentuan kelulusan')\n",
        "# dari program ini kita ingin mencetak ucapan sesuai dari lulus atau tidaknya\n",
        "# dan sesuai dengan usianya.jika nilai memenuhi kreteria kelulusan nanti akan\n",
        "# ada ucupan selamat, dan nanti ada panggilan yang sesuai.jika usia\n",
        "# kurang dari 15 tahun maka akan dipangil dek,jika lebih dari 15 tahun akan\n",
        "# akan dipanggil kaka\n",
        "\n",
        "nilai = int(input('masukan nilai: '))\n",
        "# menerima inputan dengan variabel dengan nilai yang diubah tipe datanya dari\n",
        "# default string ke integer\n",
        "usia =int(input('masukan usia: '))\n",
        "# menerima inputan dengan variabel usia yang diubah tipe datanya dari\n",
        "# default string ke interger\n",
        "\n",
        "# mengunakan if untuk mengecek jika nilai adalah lebih dari sama\n",
        "# dengan 75,jika iya masuk ke blok pertama\n",
        "if nilai >=75:\n",
        "  if (usia < 15):# blok if mengecek usia yang dimasukan\n",
        "      print('selamat adek,kamu lulus!') # print hasil yang sesuai\n",
        "  else: # blok else dari pencetakan usia\n",
        "      print('selamat kaka,kamu lulus!')\n",
        "else: # blok else dari pengecekean nilai\n",
        "    if (usia < 15):\n",
        "      print('mohon maaf dek,coba lagi ya!')\n",
        "    else:\n",
        "      print('mohon maaf kak, coba lagi ya!')\n",
        "\n",
        "\n"
      ]
    },
    {
      "cell_type": "code",
      "source": [
        "print('program penentuan jenis segitiga')\n",
        "# dalam program ini kita akan menentukan jenis segitiga sesuai denganinputan\n",
        "# dari pengguna.karena segitiga mempunyai 3 sisi,maka kita memebutukan 3 buah\n",
        "# inputan, nantinya masing masing inputan akan diubah tipe datanya dati\n",
        "# defaulntnya tring menjadi interger. ketika sudah diubah maka ketiga nilai akan\n",
        "# dicek untuk menentukan jenis segitiganya.jika semua sisi sama panjang maka\n",
        "#segitiganaya adalah segitiga sama kaki"
      ],
      "metadata": {
        "id": "dYBVnKQN7q7n"
      },
      "execution_count": null,
      "outputs": []
    },
    {
      "cell_type": "code",
      "source": [
        "print('program penentuan jenis segitiga')\n",
        "sisi1 = input('masukan panjang sisi 1: ')\n",
        "int_sisi1 = int(sisi1)\n",
        "sisi2 =input('masukan panjang sisi 2: ')\n",
        "int_sisi2 = int(sisi2)\n",
        "sisi3 = input('masukan panjang sisi 3: ')\n",
        "int_sisi3 = int(sisi3)\n",
        "if int_sisi1 == int_sisi2 == int_sisi3:\n",
        "  print('jenis segitiga: sama sisi')\n",
        "elif sisi1 == sisi2 or sisi1 == sisi3 or sisi2 == sisi3:\n",
        "  print('jenis segitiga: sama kaki')\n",
        "else:\n",
        "  print('jenis segitaga:sembarang')\n",
        "\n"
      ],
      "metadata": {
        "colab": {
          "base_uri": "https://localhost:8080/"
        },
        "id": "W-1eWqFB9ULV",
        "outputId": "50d36ba9-0781-4cc0-b3bc-cf4ad4c3003b"
      },
      "execution_count": 1,
      "outputs": [
        {
          "output_type": "stream",
          "name": "stdout",
          "text": [
            "program penentuan jenis segitiga\n",
            "masukan panjang sisi 1: 12\n",
            "masukan panjang sisi 2: 10\n",
            "masukan panjang sisi 3: 15\n",
            "jenis segitaga:sembarang\n"
          ]
        }
      ]
    }
  ]
}